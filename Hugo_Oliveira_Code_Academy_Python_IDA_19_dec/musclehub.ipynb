{
 "metadata": {
  "kernelspec": {
   "display_name": "Python 2",
   "language": "python",
   "name": "python2"
  },
  "language_info": {
   "codemirror_mode": {
    "name": "ipython",
    "version": 2
   },
   "file_extension": ".py",
   "mimetype": "text/x-python",
   "name": "python",
   "nbconvert_exporter": "python",
   "pygments_lexer": "ipython2",
   "version": "2.7.13"
  },
  "name": "",
  "signature": "sha256:a1ed6357f18cd194b9aaf07c6dd2031e6197a888163b1232645184fb21c637b9"
 },
 "nbformat": 3,
 "nbformat_minor": 0,
 "worksheets": [
  {
   "cells": [
    {
     "cell_type": "heading",
     "level": 1,
     "metadata": {},
     "source": [
      "Capstone Project 1: MuscleHub AB Test"
     ]
    },
    {
     "cell_type": "heading",
     "level": 2,
     "metadata": {},
     "source": [
      "Step 1: Get started with SQL"
     ]
    },
    {
     "cell_type": "markdown",
     "metadata": {},
     "source": [
      "Like most businesses, Janet keeps her data in a SQL database.  Normally, you'd download the data from her database to a csv file, and then load it into a Jupyter Notebook using Pandas.\n",
      "\n",
      "For this project, you'll have to access SQL in a slightly different way.  You'll be using a special Codecademy library that lets you type SQL queries directly into this Jupyter notebook.  You'll have pass each SQL query as an argument to a function called `sql_query`.  Each query will return a Pandas DataFrame.  Here's an example:"
     ]
    },
    {
     "cell_type": "code",
     "collapsed": true,
     "input": [
      "# This import only needs to happen once, at the beginning of the notebook\n",
      "from codecademySQL import sql_query"
     ],
     "language": "python",
     "metadata": {},
     "outputs": [],
     "prompt_number": 1
    },
    {
     "cell_type": "code",
     "collapsed": false,
     "input": [
      "# Here's an example of a query that just displays some data\n",
      "sql_query('''\n",
      "SELECT *\n",
      "FROM visits\n",
      "LIMIT 5\n",
      "''')"
     ],
     "language": "python",
     "metadata": {},
     "outputs": [
      {
       "html": [
        "<div style=\"max-width:1500px;overflow:auto;\">\n",
        "<table border=\"1\" class=\"dataframe\">\n",
        "  <thead>\n",
        "    <tr style=\"text-align: right;\">\n",
        "      <th></th>\n",
        "      <th>index</th>\n",
        "      <th>first_name</th>\n",
        "      <th>last_name</th>\n",
        "      <th>email</th>\n",
        "      <th>gender</th>\n",
        "      <th>visit_date</th>\n",
        "    </tr>\n",
        "  </thead>\n",
        "  <tbody>\n",
        "    <tr>\n",
        "      <th>0</th>\n",
        "      <td>0</td>\n",
        "      <td>Karen</td>\n",
        "      <td>Manning</td>\n",
        "      <td>Karen.Manning@gmail.com</td>\n",
        "      <td>female</td>\n",
        "      <td>5-1-17</td>\n",
        "    </tr>\n",
        "    <tr>\n",
        "      <th>1</th>\n",
        "      <td>1</td>\n",
        "      <td>Annette</td>\n",
        "      <td>Boone</td>\n",
        "      <td>AB9982@gmail.com</td>\n",
        "      <td>female</td>\n",
        "      <td>5-1-17</td>\n",
        "    </tr>\n",
        "    <tr>\n",
        "      <th>2</th>\n",
        "      <td>2</td>\n",
        "      <td>Salvador</td>\n",
        "      <td>Merritt</td>\n",
        "      <td>SalvadorMerritt12@outlook.com</td>\n",
        "      <td>male</td>\n",
        "      <td>5-1-17</td>\n",
        "    </tr>\n",
        "    <tr>\n",
        "      <th>3</th>\n",
        "      <td>3</td>\n",
        "      <td>Martha</td>\n",
        "      <td>Maxwell</td>\n",
        "      <td>Martha.Maxwell@gmail.com</td>\n",
        "      <td>female</td>\n",
        "      <td>5-1-17</td>\n",
        "    </tr>\n",
        "    <tr>\n",
        "      <th>4</th>\n",
        "      <td>4</td>\n",
        "      <td>Andre</td>\n",
        "      <td>Mayer</td>\n",
        "      <td>AndreMayer90@gmail.com</td>\n",
        "      <td>male</td>\n",
        "      <td>5-1-17</td>\n",
        "    </tr>\n",
        "  </tbody>\n",
        "</table>\n",
        "</div>"
       ],
       "metadata": {},
       "output_type": "pyout",
       "prompt_number": 2,
       "text": [
        "   index first_name last_name                          email  gender  \\\n",
        "0      0      Karen   Manning        Karen.Manning@gmail.com  female   \n",
        "1      1    Annette     Boone               AB9982@gmail.com  female   \n",
        "2      2   Salvador   Merritt  SalvadorMerritt12@outlook.com    male   \n",
        "3      3     Martha   Maxwell       Martha.Maxwell@gmail.com  female   \n",
        "4      4      Andre     Mayer         AndreMayer90@gmail.com    male   \n",
        "\n",
        "  visit_date  \n",
        "0     5-1-17  \n",
        "1     5-1-17  \n",
        "2     5-1-17  \n",
        "3     5-1-17  \n",
        "4     5-1-17  "
       ]
      }
     ],
     "prompt_number": 2
    },
    {
     "cell_type": "code",
     "collapsed": false,
     "input": [
      "# Here's an example where we save the data to a DataFrame\n",
      "df1 = sql_query('''\n",
      "SELECT *\n",
      "FROM applications\n",
      "LIMIT 5\n",
      "''')\n",
      "print(df1.head())"
     ],
     "language": "python",
     "metadata": {},
     "outputs": [
      {
       "output_type": "stream",
       "stream": "stdout",
       "text": [
        "   index first_name last_name                    email  gender  \\\n",
        "0      0        Roy    Abbott    RoyAbbott32@gmail.com    male   \n",
        "1      1      Agnes   Acevedo  AgnesAcevedo1@gmail.com  female   \n",
        "2      2    Roberta   Acevedo         RA8063@gmail.com  female   \n",
        "3      3     Darren    Acosta  DAcosta1996@hotmail.com    male   \n",
        "4      4     Vernon    Acosta    VAcosta1975@gmail.com    male   \n",
        "\n",
        "  application_date  \n",
        "0       2017-08-12  \n",
        "1       2017-09-29  \n",
        "2       2017-09-15  \n",
        "3       2017-07-26  \n",
        "4       2017-07-14  \n"
       ]
      }
     ],
     "prompt_number": 4
    },
    {
     "cell_type": "heading",
     "level": 2,
     "metadata": {},
     "source": [
      "Step 2: Get your dataset"
     ]
    },
    {
     "cell_type": "markdown",
     "metadata": {},
     "source": [
      "Let's get started!\n",
      "\n",
      "Janet of MuscleHub has a SQLite database, which contains several tables that will be helpful to you in this investigation:\n",
      "- `visits` contains information about potential gym customers who have visited MuscleHub\n",
      "- `fitness_tests` contains information about potential customers in \"Group A\", who were given a fitness test\n",
      "- `applications` contains information about any potential customers (both \"Group A\" and \"Group B\") who filled out an application.  Not everyone in `visits` will have filled out an application.\n",
      "- `purchases` contains information about customers who purchased a membership to MuscleHub.\n",
      "\n",
      "Use the space below to examine each table."
     ]
    },
    {
     "cell_type": "code",
     "collapsed": true,
     "input": [
      "# Examine visits here\n",
      "visits = sql_query('''\n",
      "SELECT *\n",
      "FROM visits\n",
      "''')\n",
      "print(visits.head())"
     ],
     "language": "python",
     "metadata": {},
     "outputs": [
      {
       "output_type": "stream",
       "stream": "stdout",
       "text": [
        "   index first_name last_name                          email  gender  \\\n",
        "0      0      Karen   Manning        Karen.Manning@gmail.com  female   \n",
        "1      1    Annette     Boone               AB9982@gmail.com  female   \n",
        "2      2   Salvador   Merritt  SalvadorMerritt12@outlook.com    male   \n",
        "3      3     Martha   Maxwell       Martha.Maxwell@gmail.com  female   \n",
        "4      4      Andre     Mayer         AndreMayer90@gmail.com    male   \n",
        "\n",
        "  visit_date  \n",
        "0     5-1-17  \n",
        "1     5-1-17  \n",
        "2     5-1-17  \n",
        "3     5-1-17  \n",
        "4     5-1-17  \n"
       ]
      }
     ],
     "prompt_number": 5
    },
    {
     "cell_type": "code",
     "collapsed": true,
     "input": [
      "# Examine fitness_tests here\n",
      "fitness_tests = sql_query('''\n",
      "SELECT *\n",
      "FROM fitness_tests\n",
      "''')\n",
      "print(fitness_tests.head())"
     ],
     "language": "python",
     "metadata": {},
     "outputs": [
      {
       "output_type": "stream",
       "stream": "stdout",
       "text": [
        "   index first_name last_name                   email  gender  \\\n",
        "0      0        Kim    Walter   KimWalter58@gmail.com  female   \n",
        "1      1        Tom   Webster        TW3857@gmail.com    male   \n",
        "2      2     Marcus     Bauer  Marcus.Bauer@gmail.com    male   \n",
        "3      3    Roberta      Best      RB6305@hotmail.com  female   \n",
        "4      4     Carrie   Francis      CF1896@hotmail.com  female   \n",
        "\n",
        "  fitness_test_date  \n",
        "0        2017-07-03  \n",
        "1        2017-07-02  \n",
        "2        2017-07-01  \n",
        "3        2017-07-02  \n",
        "4        2017-07-05  \n"
       ]
      }
     ],
     "prompt_number": 6
    },
    {
     "cell_type": "code",
     "collapsed": true,
     "input": [
      "# Examine applications here\n",
      "applications = sql_query('''\n",
      "SELECT *\n",
      "FROM applications\n",
      "''')\n",
      "print(applications.head())"
     ],
     "language": "python",
     "metadata": {},
     "outputs": [
      {
       "output_type": "stream",
       "stream": "stdout",
       "text": [
        "   index first_name last_name                    email  gender  \\\n",
        "0      0        Roy    Abbott    RoyAbbott32@gmail.com    male   \n",
        "1      1      Agnes   Acevedo  AgnesAcevedo1@gmail.com  female   \n",
        "2      2    Roberta   Acevedo         RA8063@gmail.com  female   \n",
        "3      3     Darren    Acosta  DAcosta1996@hotmail.com    male   \n",
        "4      4     Vernon    Acosta    VAcosta1975@gmail.com    male   \n",
        "\n",
        "  application_date  \n",
        "0       2017-08-12  \n",
        "1       2017-09-29  \n",
        "2       2017-09-15  \n",
        "3       2017-07-26  \n",
        "4       2017-07-14  \n"
       ]
      }
     ],
     "prompt_number": 7
    },
    {
     "cell_type": "code",
     "collapsed": true,
     "input": [
      "# Examine purchases here\n",
      "purchases = sql_query('''\n",
      "SELECT *\n",
      "FROM purchases\n",
      "''')\n",
      "print(purchases.head())"
     ],
     "language": "python",
     "metadata": {},
     "outputs": [
      {
       "output_type": "stream",
       "stream": "stdout",
       "text": [
        "   index first_name last_name                    email  gender purchase_date\n",
        "0      0        Roy    Abbott    RoyAbbott32@gmail.com    male    2017-08-18\n",
        "1      1    Roberta   Acevedo         RA8063@gmail.com  female    2017-09-16\n",
        "2      2     Vernon    Acosta    VAcosta1975@gmail.com    male    2017-07-20\n",
        "3      3     Darren    Acosta  DAcosta1996@hotmail.com    male    2017-07-27\n",
        "4      4       Dawn    Adkins    Dawn.Adkins@gmail.com  female    2017-08-24\n"
       ]
      }
     ],
     "prompt_number": 8
    },
    {
     "cell_type": "markdown",
     "metadata": {},
     "source": [
      "We'd like to download a giant DataFrame containing all of this data.  You'll need to write a query that does the following things:\n",
      "\n",
      "1. Not all visits in  `visits` occurred during the A/B test.  You'll only want to pull data where `visit_date` is on or after `7-1-17`.\n",
      "\n",
      "2. You'll want to perform a series of `LEFT JOIN` commands to combine the four tables that we care about.  You'll need to perform the joins on `first_name`, `last_name`, and `email`.  Pull the following columns:\n",
      "\n",
      "\n",
      "- `visits.first_name`\n",
      "- `visits.last_name`\n",
      "- `visits.gender`\n",
      "- `visits.email`\n",
      "- `visits.visit_date`\n",
      "- `fitness_tests.fitness_test_date`\n",
      "- `applications.application_date`\n",
      "- `purchases.purchase_date`\n",
      "\n",
      "Save the result of this query to a variable called `df`.\n",
      "\n",
      "Hint: your result should have 5004 rows.  Does it?"
     ]
    },
    {
     "cell_type": "code",
     "collapsed": false,
     "input": [
      "df = sql_query('''\n",
      "SELECT visits.first_name,\n",
      "       visits.last_name,\n",
      "       visits.gender,\n",
      "       visits.email,\n",
      "       visits.visit_date,\n",
      "       fitness_tests.fitness_test_date,\n",
      "       applications.application_date,\n",
      "       purchases.purchase_date\n",
      "FROM visits\n",
      "LEFT JOIN fitness_tests\n",
      "    ON fitness_tests.first_name = visits.first_name\n",
      "    AND fitness_tests.last_name = visits.last_name\n",
      "    AND fitness_tests.email = visits.email\n",
      "LEFT JOIN applications\n",
      "    ON applications.first_name = visits.first_name\n",
      "    AND applications.last_name = applications.last_name\n",
      "    AND applications.email = visits.email\n",
      "LEFT JOIN purchases\n",
      "    ON purchases.first_name = visits.first_name\n",
      "    AND purchases.last_name = visits.last_name\n",
      "    AND purchases.email = visits.email\n",
      "WHERE visits.visit_date >= '7-1-17'\n",
      "''')\n",
      "\n",
      "print(df.shape)\n",
      "\n",
      "# size ok 5004 rows, 8 columns"
     ],
     "language": "python",
     "metadata": {},
     "outputs": [
      {
       "output_type": "stream",
       "stream": "stdout",
       "text": [
        "(5004, 8)\n"
       ]
      }
     ],
     "prompt_number": 9
    },
    {
     "cell_type": "heading",
     "level": 2,
     "metadata": {},
     "source": [
      "Step 3: Investigate the A and B groups"
     ]
    },
    {
     "cell_type": "markdown",
     "metadata": {},
     "source": [
      "We have some data to work with! Import the following modules so that we can start doing analysis:\n",
      "- `import pandas as pd`\n",
      "- `from matplotlib import pyplot as plt`"
     ]
    },
    {
     "cell_type": "code",
     "collapsed": true,
     "input": [
      "import pandas as pd\n",
      "import matplotlib.pyplot as plt"
     ],
     "language": "python",
     "metadata": {},
     "outputs": [],
     "prompt_number": 10
    },
    {
     "cell_type": "markdown",
     "metadata": {},
     "source": [
      "We're going to add some columns to `df` to help us with our analysis.\n",
      "\n",
      "Start by adding a column called `ab_test_group`.  It should be `A` if `fitness_test_date` is not `None`, and `B` if `fitness_test_date` is `None`."
     ]
    },
    {
     "cell_type": "code",
     "collapsed": false,
     "input": [
      "df['ab_test_group'] = df.fitness_test_date.apply(lambda x:\n",
      "                                                 'A' if pd.notnull(x) else 'B')\n",
      "df.head()"
     ],
     "language": "python",
     "metadata": {},
     "outputs": [
      {
       "html": [
        "<div style=\"max-width:1500px;overflow:auto;\">\n",
        "<table border=\"1\" class=\"dataframe\">\n",
        "  <thead>\n",
        "    <tr style=\"text-align: right;\">\n",
        "      <th></th>\n",
        "      <th>first_name</th>\n",
        "      <th>last_name</th>\n",
        "      <th>gender</th>\n",
        "      <th>email</th>\n",
        "      <th>visit_date</th>\n",
        "      <th>fitness_test_date</th>\n",
        "      <th>application_date</th>\n",
        "      <th>purchase_date</th>\n",
        "      <th>ab_test_group</th>\n",
        "    </tr>\n",
        "  </thead>\n",
        "  <tbody>\n",
        "    <tr>\n",
        "      <th>0</th>\n",
        "      <td>Kim</td>\n",
        "      <td>Walter</td>\n",
        "      <td>female</td>\n",
        "      <td>KimWalter58@gmail.com</td>\n",
        "      <td>7-1-17</td>\n",
        "      <td>2017-07-03</td>\n",
        "      <td>None</td>\n",
        "      <td>None</td>\n",
        "      <td>A</td>\n",
        "    </tr>\n",
        "    <tr>\n",
        "      <th>1</th>\n",
        "      <td>Tom</td>\n",
        "      <td>Webster</td>\n",
        "      <td>male</td>\n",
        "      <td>TW3857@gmail.com</td>\n",
        "      <td>7-1-17</td>\n",
        "      <td>2017-07-02</td>\n",
        "      <td>None</td>\n",
        "      <td>None</td>\n",
        "      <td>A</td>\n",
        "    </tr>\n",
        "    <tr>\n",
        "      <th>2</th>\n",
        "      <td>Edward</td>\n",
        "      <td>Bowen</td>\n",
        "      <td>male</td>\n",
        "      <td>Edward.Bowen@gmail.com</td>\n",
        "      <td>7-1-17</td>\n",
        "      <td>None</td>\n",
        "      <td>2017-07-04</td>\n",
        "      <td>2017-07-04</td>\n",
        "      <td>B</td>\n",
        "    </tr>\n",
        "    <tr>\n",
        "      <th>3</th>\n",
        "      <td>Marcus</td>\n",
        "      <td>Bauer</td>\n",
        "      <td>male</td>\n",
        "      <td>Marcus.Bauer@gmail.com</td>\n",
        "      <td>7-1-17</td>\n",
        "      <td>2017-07-01</td>\n",
        "      <td>2017-07-03</td>\n",
        "      <td>2017-07-05</td>\n",
        "      <td>A</td>\n",
        "    </tr>\n",
        "    <tr>\n",
        "      <th>4</th>\n",
        "      <td>Roberta</td>\n",
        "      <td>Best</td>\n",
        "      <td>female</td>\n",
        "      <td>RB6305@hotmail.com</td>\n",
        "      <td>7-1-17</td>\n",
        "      <td>2017-07-02</td>\n",
        "      <td>None</td>\n",
        "      <td>None</td>\n",
        "      <td>A</td>\n",
        "    </tr>\n",
        "  </tbody>\n",
        "</table>\n",
        "</div>"
       ],
       "metadata": {},
       "output_type": "pyout",
       "prompt_number": 11,
       "text": [
        "  first_name last_name  gender                   email visit_date  \\\n",
        "0        Kim    Walter  female   KimWalter58@gmail.com     7-1-17   \n",
        "1        Tom   Webster    male        TW3857@gmail.com     7-1-17   \n",
        "2     Edward     Bowen    male  Edward.Bowen@gmail.com     7-1-17   \n",
        "3     Marcus     Bauer    male  Marcus.Bauer@gmail.com     7-1-17   \n",
        "4    Roberta      Best  female      RB6305@hotmail.com     7-1-17   \n",
        "\n",
        "  fitness_test_date application_date purchase_date ab_test_group  \n",
        "0        2017-07-03             None          None             A  \n",
        "1        2017-07-02             None          None             A  \n",
        "2              None       2017-07-04    2017-07-04             B  \n",
        "3        2017-07-01       2017-07-03    2017-07-05             A  \n",
        "4        2017-07-02             None          None             A  "
       ]
      }
     ],
     "prompt_number": 11
    },
    {
     "cell_type": "markdown",
     "metadata": {},
     "source": [
      "Let's do a quick sanity check that Janet split her visitors such that about half are in A and half are in B.\n",
      "\n",
      "Start by using `groupby` to count how many users are in each `ab_test_group`.  Save the results to `ab_counts`."
     ]
    },
    {
     "cell_type": "code",
     "collapsed": false,
     "input": [
      "ab_counts = df.groupby('ab_test_group').first_name.count().reset_index()\n",
      "ab_counts"
     ],
     "language": "python",
     "metadata": {},
     "outputs": [
      {
       "html": [
        "<div style=\"max-width:1500px;overflow:auto;\">\n",
        "<table border=\"1\" class=\"dataframe\">\n",
        "  <thead>\n",
        "    <tr style=\"text-align: right;\">\n",
        "      <th></th>\n",
        "      <th>ab_test_group</th>\n",
        "      <th>first_name</th>\n",
        "    </tr>\n",
        "  </thead>\n",
        "  <tbody>\n",
        "    <tr>\n",
        "      <th>0</th>\n",
        "      <td>A</td>\n",
        "      <td>2504</td>\n",
        "    </tr>\n",
        "    <tr>\n",
        "      <th>1</th>\n",
        "      <td>B</td>\n",
        "      <td>2500</td>\n",
        "    </tr>\n",
        "  </tbody>\n",
        "</table>\n",
        "</div>"
       ],
       "metadata": {},
       "output_type": "pyout",
       "prompt_number": 12,
       "text": [
        "  ab_test_group  first_name\n",
        "0             A        2504\n",
        "1             B        2500"
       ]
      }
     ],
     "prompt_number": 12
    },
    {
     "cell_type": "markdown",
     "metadata": {},
     "source": [
      "We'll want to include this information in our presentation.  Let's create a pie cart using `plt.pie`.  Make sure to include:\n",
      "- Use `plt.axis('equal')` so that your pie chart looks nice\n",
      "- Add a legend labeling `A` and `B`\n",
      "- Use `autopct` to label the percentage of each group\n",
      "- Save your figure as `ab_test_pie_chart.png`"
     ]
    },
    {
     "cell_type": "code",
     "collapsed": false,
     "input": [
      "plt.pie(ab_counts.first_name.values, labels = ['A', 'B'],autopct = '%0.2f%%')\n",
      "plt.axis('equal')\n",
      "plt.show()\n",
      "plt.savefig('ab_test_pie_chart.png')"
     ],
     "language": "python",
     "metadata": {},
     "outputs": [],
     "prompt_number": 13
    },
    {
     "cell_type": "heading",
     "level": 2,
     "metadata": {},
     "source": [
      "Step 4: Who picks up an application?"
     ]
    },
    {
     "cell_type": "markdown",
     "metadata": {},
     "source": [
      "Recall that the sign-up process for MuscleHub has several steps:\n",
      "1. Take a fitness test with a personal trainer (only Group A)\n",
      "2. Fill out an application for the gym\n",
      "3. Send in their payment for their first month's membership\n",
      "\n",
      "Let's examine how many people make it to Step 2, filling out an application.\n",
      "\n",
      "Start by creating a new column in `df` called `is_application` which is `Application` if `application_date` is not `None` and `No Application`, otherwise."
     ]
    },
    {
     "cell_type": "code",
     "collapsed": true,
     "input": [
      "df['is_application'] = df.application_date.apply(lambda x:\n",
      "                                                 'Application' if pd.notnull(x) else 'No Application')\n",
      "df.head()"
     ],
     "language": "python",
     "metadata": {},
     "outputs": [
      {
       "html": [
        "<div style=\"max-width:1500px;overflow:auto;\">\n",
        "<table border=\"1\" class=\"dataframe\">\n",
        "  <thead>\n",
        "    <tr style=\"text-align: right;\">\n",
        "      <th></th>\n",
        "      <th>first_name</th>\n",
        "      <th>last_name</th>\n",
        "      <th>gender</th>\n",
        "      <th>email</th>\n",
        "      <th>visit_date</th>\n",
        "      <th>fitness_test_date</th>\n",
        "      <th>application_date</th>\n",
        "      <th>purchase_date</th>\n",
        "      <th>ab_test_group</th>\n",
        "      <th>is_application</th>\n",
        "    </tr>\n",
        "  </thead>\n",
        "  <tbody>\n",
        "    <tr>\n",
        "      <th>0</th>\n",
        "      <td>Kim</td>\n",
        "      <td>Walter</td>\n",
        "      <td>female</td>\n",
        "      <td>KimWalter58@gmail.com</td>\n",
        "      <td>7-1-17</td>\n",
        "      <td>2017-07-03</td>\n",
        "      <td>None</td>\n",
        "      <td>None</td>\n",
        "      <td>A</td>\n",
        "      <td>No Application</td>\n",
        "    </tr>\n",
        "    <tr>\n",
        "      <th>1</th>\n",
        "      <td>Tom</td>\n",
        "      <td>Webster</td>\n",
        "      <td>male</td>\n",
        "      <td>TW3857@gmail.com</td>\n",
        "      <td>7-1-17</td>\n",
        "      <td>2017-07-02</td>\n",
        "      <td>None</td>\n",
        "      <td>None</td>\n",
        "      <td>A</td>\n",
        "      <td>No Application</td>\n",
        "    </tr>\n",
        "    <tr>\n",
        "      <th>2</th>\n",
        "      <td>Edward</td>\n",
        "      <td>Bowen</td>\n",
        "      <td>male</td>\n",
        "      <td>Edward.Bowen@gmail.com</td>\n",
        "      <td>7-1-17</td>\n",
        "      <td>None</td>\n",
        "      <td>2017-07-04</td>\n",
        "      <td>2017-07-04</td>\n",
        "      <td>B</td>\n",
        "      <td>Application</td>\n",
        "    </tr>\n",
        "    <tr>\n",
        "      <th>3</th>\n",
        "      <td>Marcus</td>\n",
        "      <td>Bauer</td>\n",
        "      <td>male</td>\n",
        "      <td>Marcus.Bauer@gmail.com</td>\n",
        "      <td>7-1-17</td>\n",
        "      <td>2017-07-01</td>\n",
        "      <td>2017-07-03</td>\n",
        "      <td>2017-07-05</td>\n",
        "      <td>A</td>\n",
        "      <td>Application</td>\n",
        "    </tr>\n",
        "    <tr>\n",
        "      <th>4</th>\n",
        "      <td>Roberta</td>\n",
        "      <td>Best</td>\n",
        "      <td>female</td>\n",
        "      <td>RB6305@hotmail.com</td>\n",
        "      <td>7-1-17</td>\n",
        "      <td>2017-07-02</td>\n",
        "      <td>None</td>\n",
        "      <td>None</td>\n",
        "      <td>A</td>\n",
        "      <td>No Application</td>\n",
        "    </tr>\n",
        "  </tbody>\n",
        "</table>\n",
        "</div>"
       ],
       "metadata": {},
       "output_type": "pyout",
       "prompt_number": 14,
       "text": [
        "  first_name last_name  gender                   email visit_date  \\\n",
        "0        Kim    Walter  female   KimWalter58@gmail.com     7-1-17   \n",
        "1        Tom   Webster    male        TW3857@gmail.com     7-1-17   \n",
        "2     Edward     Bowen    male  Edward.Bowen@gmail.com     7-1-17   \n",
        "3     Marcus     Bauer    male  Marcus.Bauer@gmail.com     7-1-17   \n",
        "4    Roberta      Best  female      RB6305@hotmail.com     7-1-17   \n",
        "\n",
        "  fitness_test_date application_date purchase_date ab_test_group  \\\n",
        "0        2017-07-03             None          None             A   \n",
        "1        2017-07-02             None          None             A   \n",
        "2              None       2017-07-04    2017-07-04             B   \n",
        "3        2017-07-01       2017-07-03    2017-07-05             A   \n",
        "4        2017-07-02             None          None             A   \n",
        "\n",
        "   is_application  \n",
        "0  No Application  \n",
        "1  No Application  \n",
        "2     Application  \n",
        "3     Application  \n",
        "4  No Application  "
       ]
      }
     ],
     "prompt_number": 14
    },
    {
     "cell_type": "markdown",
     "metadata": {},
     "source": [
      "Now, using `groupby`, count how many people from Group A and Group B either do or don't pick up an application.  You'll want to group by `ab_test_group` and `is_application`.  Save this new DataFrame as `app_counts`"
     ]
    },
    {
     "cell_type": "code",
     "collapsed": false,
     "input": [
      "app_counts = df.groupby(['ab_test_group', 'is_application']).first_name.count().reset_index()\n",
      "\n",
      "app_counts.head()"
     ],
     "language": "python",
     "metadata": {},
     "outputs": [
      {
       "html": [
        "<div style=\"max-width:1500px;overflow:auto;\">\n",
        "<table border=\"1\" class=\"dataframe\">\n",
        "  <thead>\n",
        "    <tr style=\"text-align: right;\">\n",
        "      <th></th>\n",
        "      <th>ab_test_group</th>\n",
        "      <th>is_application</th>\n",
        "      <th>first_name</th>\n",
        "    </tr>\n",
        "  </thead>\n",
        "  <tbody>\n",
        "    <tr>\n",
        "      <th>0</th>\n",
        "      <td>A</td>\n",
        "      <td>Application</td>\n",
        "      <td>250</td>\n",
        "    </tr>\n",
        "    <tr>\n",
        "      <th>1</th>\n",
        "      <td>A</td>\n",
        "      <td>No Application</td>\n",
        "      <td>2254</td>\n",
        "    </tr>\n",
        "    <tr>\n",
        "      <th>2</th>\n",
        "      <td>B</td>\n",
        "      <td>Application</td>\n",
        "      <td>325</td>\n",
        "    </tr>\n",
        "    <tr>\n",
        "      <th>3</th>\n",
        "      <td>B</td>\n",
        "      <td>No Application</td>\n",
        "      <td>2175</td>\n",
        "    </tr>\n",
        "  </tbody>\n",
        "</table>\n",
        "</div>"
       ],
       "metadata": {},
       "output_type": "pyout",
       "prompt_number": 15,
       "text": [
        "  ab_test_group  is_application  first_name\n",
        "0             A     Application         250\n",
        "1             A  No Application        2254\n",
        "2             B     Application         325\n",
        "3             B  No Application        2175"
       ]
      }
     ],
     "prompt_number": 15
    },
    {
     "cell_type": "markdown",
     "metadata": {},
     "source": [
      "We're going to want to calculate the percent of people in each group who complete an application.  It's going to be much easier to do this if we pivot `app_counts` such that:\n",
      "- The `index` is `ab_test_group`\n",
      "- The `columns` are `is_application`\n",
      "Perform this pivot and save it to the variable `app_pivot`.  Remember to call `reset_index()` at the end of the pivot!"
     ]
    },
    {
     "cell_type": "code",
     "collapsed": false,
     "input": [
      "app_pivot = pd.pivot_table(app_counts, values='first_name', index='ab_test_group', columns='is_application').reset_index()\n",
      "\n",
      "app_pivot\n"
     ],
     "language": "python",
     "metadata": {},
     "outputs": [
      {
       "html": [
        "<div style=\"max-width:1500px;overflow:auto;\">\n",
        "<table border=\"1\" class=\"dataframe\">\n",
        "  <thead>\n",
        "    <tr style=\"text-align: right;\">\n",
        "      <th>is_application</th>\n",
        "      <th>ab_test_group</th>\n",
        "      <th>Application</th>\n",
        "      <th>No Application</th>\n",
        "    </tr>\n",
        "  </thead>\n",
        "  <tbody>\n",
        "    <tr>\n",
        "      <th>0</th>\n",
        "      <td>A</td>\n",
        "      <td>250</td>\n",
        "      <td>2254</td>\n",
        "    </tr>\n",
        "    <tr>\n",
        "      <th>1</th>\n",
        "      <td>B</td>\n",
        "      <td>325</td>\n",
        "      <td>2175</td>\n",
        "    </tr>\n",
        "  </tbody>\n",
        "</table>\n",
        "</div>"
       ],
       "metadata": {},
       "output_type": "pyout",
       "prompt_number": 16,
       "text": [
        "is_application ab_test_group  Application  No Application\n",
        "0                          A          250            2254\n",
        "1                          B          325            2175"
       ]
      }
     ],
     "prompt_number": 16
    },
    {
     "cell_type": "markdown",
     "metadata": {},
     "source": [
      "Define a new column called `Total`, which is the sum of `Application` and `No Application`."
     ]
    },
    {
     "cell_type": "code",
     "collapsed": true,
     "input": [
      "app_pivot['Total'] = app_pivot['Application'] + app_pivot['No Application']\n",
      "app_pivot\n"
     ],
     "language": "python",
     "metadata": {},
     "outputs": [
      {
       "html": [
        "<div style=\"max-width:1500px;overflow:auto;\">\n",
        "<table border=\"1\" class=\"dataframe\">\n",
        "  <thead>\n",
        "    <tr style=\"text-align: right;\">\n",
        "      <th>is_application</th>\n",
        "      <th>ab_test_group</th>\n",
        "      <th>Application</th>\n",
        "      <th>No Application</th>\n",
        "      <th>Total</th>\n",
        "    </tr>\n",
        "  </thead>\n",
        "  <tbody>\n",
        "    <tr>\n",
        "      <th>0</th>\n",
        "      <td>A</td>\n",
        "      <td>250</td>\n",
        "      <td>2254</td>\n",
        "      <td>2504</td>\n",
        "    </tr>\n",
        "    <tr>\n",
        "      <th>1</th>\n",
        "      <td>B</td>\n",
        "      <td>325</td>\n",
        "      <td>2175</td>\n",
        "      <td>2500</td>\n",
        "    </tr>\n",
        "  </tbody>\n",
        "</table>\n",
        "</div>"
       ],
       "metadata": {},
       "output_type": "pyout",
       "prompt_number": 17,
       "text": [
        "is_application ab_test_group  Application  No Application  Total\n",
        "0                          A          250            2254   2504\n",
        "1                          B          325            2175   2500"
       ]
      }
     ],
     "prompt_number": 17
    },
    {
     "cell_type": "markdown",
     "metadata": {},
     "source": [
      "Calculate another column called `Percent with Application`, which is equal to `Application` divided by `Total`."
     ]
    },
    {
     "cell_type": "code",
     "collapsed": false,
     "input": [
      "app_pivot['Percent with Application'] = app_pivot['Application'] / app_pivot['Total']\n",
      "app_pivot"
     ],
     "language": "python",
     "metadata": {},
     "outputs": [
      {
       "html": [
        "<div style=\"max-width:1500px;overflow:auto;\">\n",
        "<table border=\"1\" class=\"dataframe\">\n",
        "  <thead>\n",
        "    <tr style=\"text-align: right;\">\n",
        "      <th>is_application</th>\n",
        "      <th>ab_test_group</th>\n",
        "      <th>Application</th>\n",
        "      <th>No Application</th>\n",
        "      <th>Total</th>\n",
        "      <th>Percent with Application</th>\n",
        "    </tr>\n",
        "  </thead>\n",
        "  <tbody>\n",
        "    <tr>\n",
        "      <th>0</th>\n",
        "      <td>A</td>\n",
        "      <td>250</td>\n",
        "      <td>2254</td>\n",
        "      <td>2504</td>\n",
        "      <td>0.09984</td>\n",
        "    </tr>\n",
        "    <tr>\n",
        "      <th>1</th>\n",
        "      <td>B</td>\n",
        "      <td>325</td>\n",
        "      <td>2175</td>\n",
        "      <td>2500</td>\n",
        "      <td>0.13000</td>\n",
        "    </tr>\n",
        "  </tbody>\n",
        "</table>\n",
        "</div>"
       ],
       "metadata": {},
       "output_type": "pyout",
       "prompt_number": 18,
       "text": [
        "is_application ab_test_group  Application  No Application  Total  \\\n",
        "0                          A          250            2254   2504   \n",
        "1                          B          325            2175   2500   \n",
        "\n",
        "is_application  Percent with Application  \n",
        "0                                0.09984  \n",
        "1                                0.13000  "
       ]
      }
     ],
     "prompt_number": 18
    },
    {
     "cell_type": "markdown",
     "metadata": {},
     "source": [
      "It looks like more people from Group B turned in an application.  Why might that be?\n",
      "\n",
      "We need to know if this difference is statistically significant.\n",
      "\n",
      "Choose a hypothesis tests, import it from `scipy` and perform it.  Be sure to note the p-value.\n",
      "Is this result significant?"
     ]
    },
    {
     "cell_type": "code",
     "collapsed": false,
     "input": [
      "# selecting test: two or more categorical datasets (test group A or B, Application or No application) - chi square test\n",
      "from scipy.stats import chi2_contingency\n",
      "\n",
      "# create a list with the elements for the chi2 test\n",
      "contingency_elements = [[250, 2254],\n",
      "                        [325, 2175]]\n",
      "\n",
      "# performing the test\n",
      "chi2, pval, dof, expected = chi2_contingency(contingency_elements)\n",
      "print(pval)\n",
      "print(dof)\n",
      "\n",
      "# pval = 0.00096478 (significant)"
     ],
     "language": "python",
     "metadata": {},
     "outputs": [
      {
       "output_type": "stream",
       "stream": "stdout",
       "text": [
        "0.000964782760072\n",
        "1\n"
       ]
      }
     ],
     "prompt_number": 19
    },
    {
     "cell_type": "heading",
     "level": 2,
     "metadata": {},
     "source": [
      "Step 4: Who purchases a membership?"
     ]
    },
    {
     "cell_type": "markdown",
     "metadata": {},
     "source": [
      "Of those who picked up an application, how many purchased a membership?\n",
      "\n",
      "Let's begin by adding a column to `df` called `is_member` which is `Member` if `purchase_date` is not `None`, and `Not Member` otherwise."
     ]
    },
    {
     "cell_type": "code",
     "collapsed": true,
     "input": [
      "df['is_member'] = df.purchase_date.apply(lambda x:\n",
      "                                         'Member' if pd.notnull(x) else 'Not Member')\n",
      "df.head()"
     ],
     "language": "python",
     "metadata": {},
     "outputs": [
      {
       "html": [
        "<div style=\"max-width:1500px;overflow:auto;\">\n",
        "<table border=\"1\" class=\"dataframe\">\n",
        "  <thead>\n",
        "    <tr style=\"text-align: right;\">\n",
        "      <th></th>\n",
        "      <th>first_name</th>\n",
        "      <th>last_name</th>\n",
        "      <th>gender</th>\n",
        "      <th>email</th>\n",
        "      <th>visit_date</th>\n",
        "      <th>fitness_test_date</th>\n",
        "      <th>application_date</th>\n",
        "      <th>purchase_date</th>\n",
        "      <th>ab_test_group</th>\n",
        "      <th>is_application</th>\n",
        "      <th>is_member</th>\n",
        "    </tr>\n",
        "  </thead>\n",
        "  <tbody>\n",
        "    <tr>\n",
        "      <th>0</th>\n",
        "      <td>Kim</td>\n",
        "      <td>Walter</td>\n",
        "      <td>female</td>\n",
        "      <td>KimWalter58@gmail.com</td>\n",
        "      <td>7-1-17</td>\n",
        "      <td>2017-07-03</td>\n",
        "      <td>None</td>\n",
        "      <td>None</td>\n",
        "      <td>A</td>\n",
        "      <td>No Application</td>\n",
        "      <td>Not Member</td>\n",
        "    </tr>\n",
        "    <tr>\n",
        "      <th>1</th>\n",
        "      <td>Tom</td>\n",
        "      <td>Webster</td>\n",
        "      <td>male</td>\n",
        "      <td>TW3857@gmail.com</td>\n",
        "      <td>7-1-17</td>\n",
        "      <td>2017-07-02</td>\n",
        "      <td>None</td>\n",
        "      <td>None</td>\n",
        "      <td>A</td>\n",
        "      <td>No Application</td>\n",
        "      <td>Not Member</td>\n",
        "    </tr>\n",
        "    <tr>\n",
        "      <th>2</th>\n",
        "      <td>Edward</td>\n",
        "      <td>Bowen</td>\n",
        "      <td>male</td>\n",
        "      <td>Edward.Bowen@gmail.com</td>\n",
        "      <td>7-1-17</td>\n",
        "      <td>None</td>\n",
        "      <td>2017-07-04</td>\n",
        "      <td>2017-07-04</td>\n",
        "      <td>B</td>\n",
        "      <td>Application</td>\n",
        "      <td>Member</td>\n",
        "    </tr>\n",
        "    <tr>\n",
        "      <th>3</th>\n",
        "      <td>Marcus</td>\n",
        "      <td>Bauer</td>\n",
        "      <td>male</td>\n",
        "      <td>Marcus.Bauer@gmail.com</td>\n",
        "      <td>7-1-17</td>\n",
        "      <td>2017-07-01</td>\n",
        "      <td>2017-07-03</td>\n",
        "      <td>2017-07-05</td>\n",
        "      <td>A</td>\n",
        "      <td>Application</td>\n",
        "      <td>Member</td>\n",
        "    </tr>\n",
        "    <tr>\n",
        "      <th>4</th>\n",
        "      <td>Roberta</td>\n",
        "      <td>Best</td>\n",
        "      <td>female</td>\n",
        "      <td>RB6305@hotmail.com</td>\n",
        "      <td>7-1-17</td>\n",
        "      <td>2017-07-02</td>\n",
        "      <td>None</td>\n",
        "      <td>None</td>\n",
        "      <td>A</td>\n",
        "      <td>No Application</td>\n",
        "      <td>Not Member</td>\n",
        "    </tr>\n",
        "  </tbody>\n",
        "</table>\n",
        "</div>"
       ],
       "metadata": {},
       "output_type": "pyout",
       "prompt_number": 20,
       "text": [
        "  first_name last_name  gender                   email visit_date  \\\n",
        "0        Kim    Walter  female   KimWalter58@gmail.com     7-1-17   \n",
        "1        Tom   Webster    male        TW3857@gmail.com     7-1-17   \n",
        "2     Edward     Bowen    male  Edward.Bowen@gmail.com     7-1-17   \n",
        "3     Marcus     Bauer    male  Marcus.Bauer@gmail.com     7-1-17   \n",
        "4    Roberta      Best  female      RB6305@hotmail.com     7-1-17   \n",
        "\n",
        "  fitness_test_date application_date purchase_date ab_test_group  \\\n",
        "0        2017-07-03             None          None             A   \n",
        "1        2017-07-02             None          None             A   \n",
        "2              None       2017-07-04    2017-07-04             B   \n",
        "3        2017-07-01       2017-07-03    2017-07-05             A   \n",
        "4        2017-07-02             None          None             A   \n",
        "\n",
        "   is_application   is_member  \n",
        "0  No Application  Not Member  \n",
        "1  No Application  Not Member  \n",
        "2     Application      Member  \n",
        "3     Application      Member  \n",
        "4  No Application  Not Member  "
       ]
      }
     ],
     "prompt_number": 20
    },
    {
     "cell_type": "markdown",
     "metadata": {},
     "source": [
      "Now, let's create a DataFrame called `just_apps` the contains only people who picked up an application."
     ]
    },
    {
     "cell_type": "code",
     "collapsed": true,
     "input": [
      "just_apps = df[df.is_application == 'Application']\n",
      "\n",
      "just_apps.head()\n"
     ],
     "language": "python",
     "metadata": {},
     "outputs": [
      {
       "html": [
        "<div style=\"max-width:1500px;overflow:auto;\">\n",
        "<table border=\"1\" class=\"dataframe\">\n",
        "  <thead>\n",
        "    <tr style=\"text-align: right;\">\n",
        "      <th></th>\n",
        "      <th>first_name</th>\n",
        "      <th>last_name</th>\n",
        "      <th>gender</th>\n",
        "      <th>email</th>\n",
        "      <th>visit_date</th>\n",
        "      <th>fitness_test_date</th>\n",
        "      <th>application_date</th>\n",
        "      <th>purchase_date</th>\n",
        "      <th>ab_test_group</th>\n",
        "      <th>is_application</th>\n",
        "      <th>is_member</th>\n",
        "    </tr>\n",
        "  </thead>\n",
        "  <tbody>\n",
        "    <tr>\n",
        "      <th>2</th>\n",
        "      <td>Edward</td>\n",
        "      <td>Bowen</td>\n",
        "      <td>male</td>\n",
        "      <td>Edward.Bowen@gmail.com</td>\n",
        "      <td>7-1-17</td>\n",
        "      <td>None</td>\n",
        "      <td>2017-07-04</td>\n",
        "      <td>2017-07-04</td>\n",
        "      <td>B</td>\n",
        "      <td>Application</td>\n",
        "      <td>Member</td>\n",
        "    </tr>\n",
        "    <tr>\n",
        "      <th>3</th>\n",
        "      <td>Marcus</td>\n",
        "      <td>Bauer</td>\n",
        "      <td>male</td>\n",
        "      <td>Marcus.Bauer@gmail.com</td>\n",
        "      <td>7-1-17</td>\n",
        "      <td>2017-07-01</td>\n",
        "      <td>2017-07-03</td>\n",
        "      <td>2017-07-05</td>\n",
        "      <td>A</td>\n",
        "      <td>Application</td>\n",
        "      <td>Member</td>\n",
        "    </tr>\n",
        "    <tr>\n",
        "      <th>9</th>\n",
        "      <td>Salvador</td>\n",
        "      <td>Cardenas</td>\n",
        "      <td>male</td>\n",
        "      <td>SCardenas1980@gmail.com</td>\n",
        "      <td>7-1-17</td>\n",
        "      <td>2017-07-07</td>\n",
        "      <td>2017-07-06</td>\n",
        "      <td>None</td>\n",
        "      <td>A</td>\n",
        "      <td>Application</td>\n",
        "      <td>Not Member</td>\n",
        "    </tr>\n",
        "    <tr>\n",
        "      <th>11</th>\n",
        "      <td>Valerie</td>\n",
        "      <td>Munoz</td>\n",
        "      <td>female</td>\n",
        "      <td>VMunoz1998@gmail.com</td>\n",
        "      <td>7-1-17</td>\n",
        "      <td>2017-07-03</td>\n",
        "      <td>2017-07-05</td>\n",
        "      <td>2017-07-06</td>\n",
        "      <td>A</td>\n",
        "      <td>Application</td>\n",
        "      <td>Member</td>\n",
        "    </tr>\n",
        "    <tr>\n",
        "      <th>35</th>\n",
        "      <td>Michael</td>\n",
        "      <td>Burks</td>\n",
        "      <td>male</td>\n",
        "      <td>MB9820@gmail.com</td>\n",
        "      <td>7-1-17</td>\n",
        "      <td>None</td>\n",
        "      <td>2017-07-07</td>\n",
        "      <td>2017-07-13</td>\n",
        "      <td>B</td>\n",
        "      <td>Application</td>\n",
        "      <td>Member</td>\n",
        "    </tr>\n",
        "  </tbody>\n",
        "</table>\n",
        "</div>"
       ],
       "metadata": {},
       "output_type": "pyout",
       "prompt_number": 21,
       "text": [
        "   first_name last_name  gender                    email visit_date  \\\n",
        "2      Edward     Bowen    male   Edward.Bowen@gmail.com     7-1-17   \n",
        "3      Marcus     Bauer    male   Marcus.Bauer@gmail.com     7-1-17   \n",
        "9    Salvador  Cardenas    male  SCardenas1980@gmail.com     7-1-17   \n",
        "11    Valerie     Munoz  female     VMunoz1998@gmail.com     7-1-17   \n",
        "35    Michael     Burks    male         MB9820@gmail.com     7-1-17   \n",
        "\n",
        "   fitness_test_date application_date purchase_date ab_test_group  \\\n",
        "2               None       2017-07-04    2017-07-04             B   \n",
        "3         2017-07-01       2017-07-03    2017-07-05             A   \n",
        "9         2017-07-07       2017-07-06          None             A   \n",
        "11        2017-07-03       2017-07-05    2017-07-06             A   \n",
        "35              None       2017-07-07    2017-07-13             B   \n",
        "\n",
        "   is_application   is_member  \n",
        "2     Application      Member  \n",
        "3     Application      Member  \n",
        "9     Application  Not Member  \n",
        "11    Application      Member  \n",
        "35    Application      Member  "
       ]
      }
     ],
     "prompt_number": 21
    },
    {
     "cell_type": "markdown",
     "metadata": {},
     "source": [
      "Great! Now, let's do a `groupby` to find out how many people in `just_apps` are and aren't members from each group.  Follow the same process that we did in Step 4, including pivoting the data.  You should end up with a DataFrame that looks like this:\n",
      "\n",
      "|is_member|ab_test_group|Member|Not Member|Total|Percent Purchase|\n",
      "|-|-|-|-|-|-|\n",
      "|0|A|?|?|?|?|\n",
      "|1|B|?|?|?|?|\n",
      "\n",
      "Save your final DataFrame as `member_pivot`."
     ]
    },
    {
     "cell_type": "code",
     "collapsed": false,
     "input": [
      "# groupby ab_test_group and is_member\n",
      "member = just_apps.groupby(['ab_test_group', 'is_member']).first_name.count().reset_index()\n",
      "\n",
      "# pivoting the dataframe\n",
      "member_pivot = pd.pivot_table(member,\n",
      "                              columns='is_member',\n",
      "                              index='ab_test_group',\n",
      "                              values='first_name').reset_index()\n",
      "\n",
      "# adding column Total\n",
      "member_pivot['Total'] = member_pivot['Member'] + member_pivot['Not Member']\n",
      "\n",
      "# adding column Percent Purchase\n",
      "member_pivot['Percent Purchase'] = member_pivot['Member'] / member_pivot['Total']\n",
      "\n",
      "member_pivot.head()\n",
      "\n"
     ],
     "language": "python",
     "metadata": {},
     "outputs": [
      {
       "html": [
        "<div style=\"max-width:1500px;overflow:auto;\">\n",
        "<table border=\"1\" class=\"dataframe\">\n",
        "  <thead>\n",
        "    <tr style=\"text-align: right;\">\n",
        "      <th>is_member</th>\n",
        "      <th>ab_test_group</th>\n",
        "      <th>Member</th>\n",
        "      <th>Not Member</th>\n",
        "      <th>Total</th>\n",
        "      <th>Percent Purchase</th>\n",
        "    </tr>\n",
        "  </thead>\n",
        "  <tbody>\n",
        "    <tr>\n",
        "      <th>0</th>\n",
        "      <td>A</td>\n",
        "      <td>200</td>\n",
        "      <td>50</td>\n",
        "      <td>250</td>\n",
        "      <td>0.800000</td>\n",
        "    </tr>\n",
        "    <tr>\n",
        "      <th>1</th>\n",
        "      <td>B</td>\n",
        "      <td>250</td>\n",
        "      <td>75</td>\n",
        "      <td>325</td>\n",
        "      <td>0.769231</td>\n",
        "    </tr>\n",
        "  </tbody>\n",
        "</table>\n",
        "</div>"
       ],
       "metadata": {},
       "output_type": "pyout",
       "prompt_number": 22,
       "text": [
        "is_member ab_test_group  Member  Not Member  Total  Percent Purchase\n",
        "0                     A     200          50    250          0.800000\n",
        "1                     B     250          75    325          0.769231"
       ]
      }
     ],
     "prompt_number": 22
    },
    {
     "cell_type": "markdown",
     "metadata": {},
     "source": [
      "It looks like people who took the fitness test were more likely to purchase a membership **if** they picked up an application.  Why might that be?\n",
      "\n",
      "Just like before, we need to know if this difference is statistically significant.  Choose a hypothesis tests, import it from `scipy` and perform it.  Be sure to note the p-value.\n",
      "Is this result significant?"
     ]
    },
    {
     "cell_type": "code",
     "collapsed": false,
     "input": [
      "# Again: two or more categorical datasets - chi2 test\n",
      "\n",
      "# create the contigency list\n",
      "contingency_2 = [[200, 50],\n",
      "                 [250, 75]]\n",
      "chi2, pval, dof, expected = chi2_contingency(contingency_2)\n",
      "print(pval)\n",
      "\n",
      "#pval for this test 0.4326 - non-significant value"
     ],
     "language": "python",
     "metadata": {},
     "outputs": [
      {
       "output_type": "stream",
       "stream": "stdout",
       "text": [
        "0.432586460511\n"
       ]
      }
     ],
     "prompt_number": 23
    },
    {
     "cell_type": "markdown",
     "metadata": {},
     "source": [
      "Previously, we looked at what percent of people **who picked up applications** purchased memberships.  What we really care about is what percentage of **all visitors** purchased memberships.  Return to `df` and do a `groupby` to find out how many people in `df` are and aren't members from each group.  Follow the same process that we did in Step 4, including pivoting the data.  You should end up with a DataFrame that looks like this:\n",
      "\n",
      "|is_member|ab_test_group|Member|Not Member|Total|Percent Purchase|\n",
      "|-|-|-|-|-|-|\n",
      "|0|A|?|?|?|?|\n",
      "|1|B|?|?|?|?|\n",
      "\n",
      "Save your final DataFrame as `final_member_pivot`."
     ]
    },
    {
     "cell_type": "code",
     "collapsed": false,
     "input": [
      "# buiding the final_member dataframe\n",
      "final_member = df.groupby(['ab_test_group', 'is_member']).first_name.count().reset_index()\n",
      "\n",
      "# pivoting the table\n",
      "final_member_pivot = pd.pivot_table(final_member,\n",
      "                                    columns='is_member',\n",
      "                                    index='ab_test_group',\n",
      "                                    values='first_name').reset_index()\n",
      "# calculating Total\n",
      "final_member_pivot['Total'] = final_member_pivot['Member'] + final_member_pivot['Not Member']\n",
      "\n",
      "# calculating percentage\n",
      "final_member_pivot['Percent Purchase'] = final_member_pivot['Member'] / final_member_pivot['Total']\n",
      "\n",
      "final_member_pivot.head()\n"
     ],
     "language": "python",
     "metadata": {},
     "outputs": [
      {
       "html": [
        "<div style=\"max-width:1500px;overflow:auto;\">\n",
        "<table border=\"1\" class=\"dataframe\">\n",
        "  <thead>\n",
        "    <tr style=\"text-align: right;\">\n",
        "      <th>is_member</th>\n",
        "      <th>ab_test_group</th>\n",
        "      <th>Member</th>\n",
        "      <th>Not Member</th>\n",
        "      <th>Total</th>\n",
        "      <th>Percent Purchase</th>\n",
        "    </tr>\n",
        "  </thead>\n",
        "  <tbody>\n",
        "    <tr>\n",
        "      <th>0</th>\n",
        "      <td>A</td>\n",
        "      <td>200</td>\n",
        "      <td>2304</td>\n",
        "      <td>2504</td>\n",
        "      <td>0.079872</td>\n",
        "    </tr>\n",
        "    <tr>\n",
        "      <th>1</th>\n",
        "      <td>B</td>\n",
        "      <td>250</td>\n",
        "      <td>2250</td>\n",
        "      <td>2500</td>\n",
        "      <td>0.100000</td>\n",
        "    </tr>\n",
        "  </tbody>\n",
        "</table>\n",
        "</div>"
       ],
       "metadata": {},
       "output_type": "pyout",
       "prompt_number": 24,
       "text": [
        "is_member ab_test_group  Member  Not Member  Total  Percent Purchase\n",
        "0                     A     200        2304   2504          0.079872\n",
        "1                     B     250        2250   2500          0.100000"
       ]
      }
     ],
     "prompt_number": 24
    },
    {
     "cell_type": "markdown",
     "metadata": {},
     "source": [
      "Previously, when we only considered people who had **already picked up an application**, we saw that there was no significant difference in membership between Group A and Group B.\n",
      "\n",
      "Now, when we consider all people who **visit MuscleHub**, we see that there might be a significant different in memberships between Group A and Group B.  Perform a significance test and check."
     ]
    },
    {
     "cell_type": "code",
     "collapsed": false,
     "input": [
      "# new chi2 contingency test\n",
      "contingency_3 = [[200, 2304],\n",
      "                 [250, 2250]]\n",
      "chi2, pval, dof, expected = chi2_contingency(contingency_3)\n",
      "print(pval)"
     ],
     "language": "python",
     "metadata": {},
     "outputs": [
      {
       "output_type": "stream",
       "stream": "stdout",
       "text": [
        "0.0147241146458\n"
       ]
      }
     ],
     "prompt_number": 25
    },
    {
     "cell_type": "heading",
     "level": 2,
     "metadata": {},
     "source": [
      "Step 5: Summarize the acquisition funel with a chart"
     ]
    },
    {
     "cell_type": "markdown",
     "metadata": {},
     "source": [
      "We'd like to make a bar chart for Janet that shows the difference between Group A (people who were given the fitness test) and Group B (people who were not given the fitness test) at each state of the process:\n",
      "- Percent of visitors who apply\n",
      "- Percent of applicants who purchase a membership\n",
      "- Percent of visitors who purchase a membership\n",
      "\n",
      "Create one plot for **each** of the three sets of percentages that you calculated in `app_pivot`, `member_pivot` and `final_member_pivot`.  Each plot should:\n",
      "- Label the two bars as `Fitness Test` and `No Fitness Test`\n",
      "- Make sure that the y-axis ticks are expressed as percents (i.e., `5%`)\n",
      "- Have a title"
     ]
    },
    {
     "cell_type": "code",
     "collapsed": false,
     "input": [
      "# bar graph - percent of visitor who apply - dataframe app_pivot - y column: Percent with Application\n",
      "ax = plt.subplot()\n",
      "plt.bar(range(len(app_pivot)),\n",
      "       app_pivot['Percent with Application'].values)\n",
      "ax.set_xticks(range(len(app_pivot)))\n",
      "ax.set_xticklabels(['Fitness Test', 'No Fitness Test'])\n",
      "ax.set_yticks([0.00, 0.05, 0.10, 0.15])\n",
      "ax.set_yticklabels(['0.0%', '5.0%', '10.0%', '15.0%'])\n",
      "plt.show()\n",
      "plt.savefig('percent_visitors_application.png')"
     ],
     "language": "python",
     "metadata": {},
     "outputs": [],
     "prompt_number": 36
    },
    {
     "cell_type": "code",
     "collapsed": false,
     "input": [
      "# bar graph - percent of applicants who purchased a membership - dataframe member_pivot - y column: Percent Purchase\n",
      "ax = plt.subplot()\n",
      "plt.bar(range(len(member_pivot)),\n",
      "        member_pivot['Percent Purchase'].values)\n",
      "ax.set_xticks(range(len(app_pivot)))\n",
      "ax.set_xticklabels(['Fitness Test', 'No Fitness Test'])\n",
      "ax.set_yticks([0.00, 0.20, 0.40, 0.60, 0.80, 1.00])\n",
      "ax.set_yticklabels(['0.00%', '20.0%', '40.0%', '60.0%', '80.0%', '100%'])\n",
      "plt.show()\n",
      "plt.savefig('percent_applicants_membership.png')"
     ],
     "language": "python",
     "metadata": {},
     "outputs": [],
     "prompt_number": 30
    },
    {
     "cell_type": "code",
     "collapsed": false,
     "input": [
      "# bar graph - percent of visitors who purchased a membership - dataframe final_member_pivot - y column: Percent Purchase\n",
      "ax = plt.subplot()\n",
      "plt.bar(range(len(final_member_pivot)),\n",
      "        final_member_pivot['Percent Purchase'].values)\n",
      "ax.set_xticks(range(len(final_member_pivot)))\n",
      "ax.set_xticklabels(['Fitness Test', 'No Fitness Test'])\n",
      "ax.set_yticks([0.00, 0.05, 0.10, 0.15])\n",
      "ax.set_yticklabels(['0.0%', '5.0%', '10%', '15%'])\n",
      "plt.show()\n",
      "plt.savefig('percent_visitors_membership.png')\n"
     ],
     "language": "python",
     "metadata": {},
     "outputs": [],
     "prompt_number": 35
    },
    {
     "cell_type": "code",
     "collapsed": false,
     "input": [],
     "language": "python",
     "metadata": {},
     "outputs": []
    }
   ],
   "metadata": {}
  }
 ]
}